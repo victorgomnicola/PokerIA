{
 "cells": [
  {
   "cell_type": "code",
   "execution_count": 1,
   "metadata": {},
   "outputs": [
    {
     "name": "stderr",
     "output_type": "stream",
     "text": [
      "Using TensorFlow backend.\n"
     ]
    }
   ],
   "source": [
    "from Jogador import Jogador\n",
    "from Verificador import Verificador\n",
    "import random\n",
    "import numpy as np\n",
    "import keras\n",
    "import tensorflow as tf\n",
    "from keras import backend as K"
   ]
  },
  {
   "cell_type": "code",
   "execution_count": 2,
   "metadata": {
    "collapsed": true
   },
   "outputs": [],
   "source": [
    "from keras.models import Sequential\n",
    "from keras.layers import Dense, Dropout "
   ]
  },
  {
   "cell_type": "code",
   "execution_count": 18,
   "metadata": {
    "collapsed": true
   },
   "outputs": [],
   "source": [
    "sess = K.get_session()"
   ]
  },
  {
   "cell_type": "markdown",
   "metadata": {},
   "source": [
    "# Rede neural de políticas"
   ]
  },
  {
   "cell_type": "code",
   "execution_count": 9,
   "metadata": {},
   "outputs": [
    {
     "name": "stdout",
     "output_type": "stream",
     "text": [
      "_________________________________________________________________\n",
      "Layer (type)                 Output Shape              Param #   \n",
      "=================================================================\n",
      "dense_11 (Dense)             (None, 34)                612       \n",
      "_________________________________________________________________\n",
      "dense_12 (Dense)             (None, 1)                 35        \n",
      "=================================================================\n",
      "Total params: 647\n",
      "Trainable params: 647\n",
      "Non-trainable params: 0\n",
      "_________________________________________________________________\n",
      "None\n"
     ]
    }
   ],
   "source": [
    "policy_nn = Sequential()\n",
    "policy_nn.add(Dense(34, input_dim = 17, activation = 'relu'))\n",
    "policy_nn.add(Dense(1, activation = 'linear'))\n",
    "policy_nn.compile(loss=\"mse\", optimizer= 'sgd')\n",
    "print(policy_nn.summary())"
   ]
  },
  {
   "cell_type": "markdown",
   "metadata": {},
   "source": [
    "# Rede neural de valores "
   ]
  },
  {
   "cell_type": "code",
   "execution_count": 10,
   "metadata": {},
   "outputs": [
    {
     "name": "stdout",
     "output_type": "stream",
     "text": [
      "_________________________________________________________________\n",
      "Layer (type)                 Output Shape              Param #   \n",
      "=================================================================\n",
      "dense_13 (Dense)             (None, 34)                612       \n",
      "_________________________________________________________________\n",
      "dense_14 (Dense)             (None, 1)                 35        \n",
      "=================================================================\n",
      "Total params: 647\n",
      "Trainable params: 647\n",
      "Non-trainable params: 0\n",
      "_________________________________________________________________\n",
      "None\n"
     ]
    }
   ],
   "source": [
    "value_nn = Sequential()\n",
    "value_nn.add(Dense(34, input_dim= 17, activation = 'relu'))\n",
    "value_nn.add(Dense(1, activation= 'linear'))\n",
    "value_nn.compile(loss= 'mse', optimizer= 'sgd')\n",
    "print(value_nn.summary())"
   ]
  },
  {
   "cell_type": "markdown",
   "metadata": {},
   "source": [
    "## Tensor Board"
   ]
  },
  {
   "cell_type": "code",
   "execution_count": 14,
   "metadata": {
    "collapsed": true
   },
   "outputs": [],
   "source": [
    "def variable_summaries(var):\n",
    "    #Attach a lot of summaries to a Tensor (for TensorBoard visualization).\n",
    "    for i in range(len(var)):\n",
    "        with tf.name_scope(\"Layer_\"+str(i)):\n",
    "            with tf.name_scope('summaries'):\n",
    "                mean = tf.reduce_mean(var[i])\n",
    "                tf.summary.scalar('mean', mean)\n",
    "                with tf.name_scope('stddev'):\n",
    "                    stddev = tf.sqrt(tf.reduce_mean(tf.square(var[i] - mean)))\n",
    "                tf.summary.scalar('stddev', stddev)\n",
    "                tf.summary.scalar('max', tf.reduce_max(var[i]))\n",
    "                tf.summary.scalar('min', tf.reduce_min(var[i]))\n",
    "                tf.summary.histogram('histogram', var[i])"
   ]
  },
  {
   "cell_type": "code",
   "execution_count": 17,
   "metadata": {},
   "outputs": [],
   "source": [
    "with tf.name_scope(\"weights\"):\n",
    "    \n",
    "    with tf.name_scope(\"Value\"):\n",
    "        value_weights = value_nn.trainable_weights\n",
    "        variable_summaries(value_weights)\n",
    "    with tf.name_scope(\"Policy\"):\n",
    "        policy_weights = policy_nn.trainable_weights\n",
    "        variable_summaries(policy_weights)\n"
   ]
  },
  {
   "cell_type": "code",
   "execution_count": 30,
   "metadata": {},
   "outputs": [],
   "source": [
    "with tf.name_scope(\"eligibility_traces\"):\n",
    "    with tf.name_scope(\"Value\"):\n",
    "        value_eligibility_traces = [tf.Variable(np.zeros(shape = sess.run(tf.shape(tensor))), dtype= tf.float32) for tensor in value_nn.trainable_weights]\n",
    "        value_eye =[tf.Variable(np.identity(sess.run(tf.shape(tensor))[0]), dtype= tf.float32) for tensor in value_nn.trainable_weights]\n",
    "    with tf.name_scope(\"Policy\"):\n",
    "        policy_eligibility_traces =[tf.Variable(np.zeros(shape = sess.run(tf.shape(tensor))), dtype= tf.float32) for tensor in policy_nn.trainable_weights]\n",
    "        policy_eye = [tf.Variable(np.identity(sess.run(tf.shape(tensor))[0]), dtype= tf.float32) for tensor in policy_nn.trainable_weights]"
   ]
  },
  {
   "cell_type": "code",
   "execution_count": 36,
   "metadata": {},
   "outputs": [
    {
     "data": {
      "text/plain": [
       "array([17, 34])"
      ]
     },
     "execution_count": 36,
     "metadata": {},
     "output_type": "execute_result"
    }
   ],
   "source": [
    "sess.run(tf.shape(value_nn.trainable_weights[0]))"
   ]
  },
  {
   "cell_type": "markdown",
   "metadata": {},
   "source": [
    "## Operações de atualização das redes neurais"
   ]
  },
  {
   "cell_type": "code",
   "execution_count": 42,
   "metadata": {},
   "outputs": [],
   "source": [
    "global value_eligibility_traces \n",
    "value_alpha = 0.01\n",
    "\n",
    "value_gradients =  value_nn.optimizer.get_gradients(value_nn.output, value_weights)\n",
    "Delta_rewards = tf.placeholder(tf.float32)\n",
    "value_op = [value_weights[i].assign(tf.add(value_weights[i], tf.multiply(tf.constant(value_alpha, dtype = tf.float32), tf.multiply(tf.multiply(value_eye[i],Delta_rewards), value_gradients[i]) ) ) ) for i in range(len(value_weights))]"
   ]
  },
  {
   "cell_type": "code",
   "execution_count": 41,
   "metadata": {},
   "outputs": [
    {
     "data": {
      "text/plain": [
       "<tf.Variable 'eligibility_traces_9/Value/Variable_4:0' shape=(17, 17) dtype=float32_ref>"
      ]
     },
     "execution_count": 41,
     "metadata": {},
     "output_type": "execute_result"
    }
   ],
   "source": []
  }
 ],
 "metadata": {
  "kernelspec": {
   "display_name": "Python 3",
   "language": "python",
   "name": "python3"
  },
  "language_info": {
   "codemirror_mode": {
    "name": "ipython",
    "version": 3
   },
   "file_extension": ".py",
   "mimetype": "text/x-python",
   "name": "python",
   "nbconvert_exporter": "python",
   "pygments_lexer": "ipython3",
   "version": "3.6.0"
  }
 },
 "nbformat": 4,
 "nbformat_minor": 2
}
