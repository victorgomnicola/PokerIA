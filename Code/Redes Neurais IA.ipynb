{
 "cells": [
  {
   "cell_type": "code",
   "execution_count": 2,
   "metadata": {},
   "outputs": [],
   "source": [
    "from Jogador import Jogador\n",
    "from Verificador import Verificador\n",
    "import random\n",
    "import numpy as np\n",
    "import keras\n",
    "import tensorflow as tf\n",
    "from keras import backend as K"
   ]
  },
  {
   "cell_type": "code",
   "execution_count": 3,
   "metadata": {},
   "outputs": [],
   "source": [
    "from keras.models import Sequential\n",
    "from keras.layers import Dense, Dropout "
   ]
  },
  {
   "cell_type": "code",
   "execution_count": 4,
   "metadata": {},
   "outputs": [],
   "source": [
    "sess = K.get_session()"
   ]
  },
  {
   "cell_type": "markdown",
   "metadata": {},
   "source": [
    "# Rede neural de políticas"
   ]
  },
  {
   "cell_type": "code",
   "execution_count": 6,
   "metadata": {},
   "outputs": [
    {
     "name": "stdout",
     "output_type": "stream",
     "text": [
      "_________________________________________________________________\n",
      "Layer (type)                 Output Shape              Param #   \n",
      "=================================================================\n",
      "dense_3 (Dense)              (None, 34)                646       \n",
      "_________________________________________________________________\n",
      "dense_4 (Dense)              (None, 1)                 35        \n",
      "=================================================================\n",
      "Total params: 681\n",
      "Trainable params: 681\n",
      "Non-trainable params: 0\n",
      "_________________________________________________________________\n",
      "None\n"
     ]
    }
   ],
   "source": [
    "policy_nn = Sequential()\n",
    "policy_nn.add(Dense(34, input_dim = 18, activation = 'relu'))\n",
    "policy_nn.add(Dense(1, activation = 'linear'))\n",
    "policy_nn.compile(loss=\"mse\", optimizer= 'sgd')\n",
    "print(policy_nn.summary())\n",
    "policy_nn.save('policy.h5')"
   ]
  },
  {
   "cell_type": "markdown",
   "metadata": {},
   "source": [
    "# Rede neural de valores "
   ]
  },
  {
   "cell_type": "code",
   "execution_count": 6,
   "metadata": {},
   "outputs": [
    {
     "name": "stdout",
     "output_type": "stream",
     "text": [
      "_________________________________________________________________\n",
      "Layer (type)                 Output Shape              Param #   \n",
      "=================================================================\n",
      "dense_3 (Dense)              (None, 34)                612       \n",
      "_________________________________________________________________\n",
      "dense_4 (Dense)              (None, 1)                 35        \n",
      "=================================================================\n",
      "Total params: 647\n",
      "Trainable params: 647\n",
      "Non-trainable params: 0\n",
      "_________________________________________________________________\n",
      "None\n"
     ]
    }
   ],
   "source": [
    "value_nn = Sequential()\n",
    "value_nn.add(Dense(34, input_dim= 17, activation = 'relu'))\n",
    "value_nn.add(Dense(1, activation= 'linear'))\n",
    "value_nn.compile(loss= 'mse', optimizer= 'sgd')\n",
    "print(value_nn.summary())\n",
    "value_nn.save('value.h5')"
   ]
  },
  {
   "cell_type": "markdown",
   "metadata": {},
   "source": [
    "## Tensor Board"
   ]
  },
  {
   "cell_type": "code",
   "execution_count": 6,
   "metadata": {
    "collapsed": true
   },
   "outputs": [],
   "source": [
    "def variable_summaries(var):\n",
    "    #Attach a lot of summaries to a Tensor (for TensorBoard visualization).\n",
    "    for i in range(len(var)):\n",
    "        with tf.name_scope(\"Layer_\"+str(i)):\n",
    "            with tf.name_scope('summaries'):\n",
    "                mean = tf.reduce_mean(var[i])\n",
    "                tf.summary.scalar('mean', mean)\n",
    "                with tf.name_scope('stddev'):\n",
    "                    stddev = tf.sqrt(tf.reduce_mean(tf.square(var[i] - mean)))\n",
    "                tf.summary.scalar('stddev', stddev)\n",
    "                tf.summary.scalar('max', tf.reduce_max(var[i]))\n",
    "                tf.summary.scalar('min', tf.reduce_min(var[i]))\n",
    "                tf.summary.histogram('histogram', var[i])"
   ]
  },
  {
   "cell_type": "code",
   "execution_count": 7,
   "metadata": {
    "collapsed": true
   },
   "outputs": [],
   "source": [
    "with tf.name_scope(\"weights\"):\n",
    "    \n",
    "    with tf.name_scope(\"Value\"):\n",
    "        value_weights = value_nn.trainable_weights\n",
    "        variable_summaries(value_weights)\n",
    "    with tf.name_scope(\"Policy\"):\n",
    "        policy_weights = policy_nn.trainable_weights\n",
    "        variable_summaries(policy_weights)\n"
   ]
  },
  {
   "cell_type": "code",
   "execution_count": 8,
   "metadata": {
    "collapsed": true
   },
   "outputs": [],
   "source": [
    "with tf.name_scope(\"eligibility_traces\"):\n",
    "    with tf.name_scope(\"Value\"):\n",
    "        value_eligibility_traces = [tf.Variable(np.zeros(shape = sess.run(tf.shape(tensor))), dtype= tf.float32) for tensor in value_nn.trainable_weights]\n",
    "        variable_summaries(value_eligibility_traces)\n",
    "    with tf.name_scope(\"Policy\"):\n",
    "        policy_eligibility_traces =[tf.Variable(np.zeros(shape = sess.run(tf.shape(tensor))), dtype= tf.float32) for tensor in policy_nn.trainable_weights]\n",
    "        variable_summaries(policy_eligibility_traces)"
   ]
  },
  {
   "cell_type": "markdown",
   "metadata": {},
   "source": [
    "## Operações de atualização das redes neurais"
   ]
  },
  {
   "cell_type": "code",
   "execution_count": 9,
   "metadata": {
    "collapsed": true
   },
   "outputs": [],
   "source": [
    "Delta_rewards = tf.placeholder(tf.float32)\n",
    "sigma = 0.9\n",
    "eye = tf.Variable(1, dtype = tf.float32)"
   ]
  },
  {
   "cell_type": "markdown",
   "metadata": {},
   "source": [
    "### VALUE"
   ]
  },
  {
   "cell_type": "code",
   "execution_count": 10,
   "metadata": {
    "collapsed": true
   },
   "outputs": [],
   "source": [
    "global value_eligibility_traces \n",
    "value_alpha = 0.01\n",
    "value_lambda = 0.9\n",
    "eye = tf.Variable(1, dtype = tf.float32)\n",
    "\n",
    "value_gradients =  value_nn.optimizer.get_gradients(value_nn.output, value_weights)\n",
    "value_eligibility_op = [value_eligibility_traces[i].assign(value_lambda*sigma* value_eligibility_traces[i]+ eye* value_gradients[i] ) for i in range(len(value_weights))]\n",
    "value_weights_op = [value_weights[i].assign(value_weights[i] + value_alpha* Delta_rewards * value_eligibility_traces[i]) for i in range(len(value_weights))]"
   ]
  },
  {
   "cell_type": "markdown",
   "metadata": {},
   "source": [
    "### POLICY"
   ]
  },
  {
   "cell_type": "code",
   "execution_count": 11,
   "metadata": {
    "collapsed": true
   },
   "outputs": [],
   "source": [
    "global policy_eligibility_traces\n",
    "policy_alpha = 0.01\n",
    "policy_lambda = 0.9\n",
    "\n",
    "e_h = tf.placeholder(tf.float32)\n",
    "e_z = tf.placeholder(tf.float32)\n",
    "\n",
    "policy_gradients = policy_nn.optimizer.get_gradients(policy_nn.output, policy_weights)\n",
    "policy_eligibility_loss_op = [policy_eligibility_traces[i].assign(policy_lambda*sigma*policy_eligibility_traces[i] + eye*e_z*policy_gradients[i]/(e_z+e_h)) for i in range(len(policy_weights))]\n",
    "policy_weights_op = [policy_weights[i].assign(policy_weights[i] + policy_alpha*Delta_rewards*policy_eligibility_traces[i]) for i in range(len(policy_weights))]"
   ]
  },
  {
   "cell_type": "code",
   "execution_count": 12,
   "metadata": {
    "collapsed": true
   },
   "outputs": [],
   "source": [
    "sess.run(tf.global_variables_initializer())"
   ]
  },
  {
   "cell_type": "code",
   "execution_count": 13,
   "metadata": {
    "collapsed": true
   },
   "outputs": [],
   "source": [
    "a =[1]"
   ]
  },
  {
   "cell_type": "code",
   "execution_count": 14,
   "metadata": {},
   "outputs": [
    {
     "data": {
      "text/plain": [
       "1"
      ]
     },
     "execution_count": 14,
     "metadata": {},
     "output_type": "execute_result"
    }
   ],
   "source": []
  },
  {
   "cell_type": "code",
   "execution_count": null,
   "metadata": {
    "collapsed": true
   },
   "outputs": [],
   "source": [
    "def update_weigths(log):\n",
    "    "
   ]
  }
 ],
 "metadata": {
  "kernelspec": {
   "display_name": "Python 3",
   "language": "python",
   "name": "python3"
  },
  "language_info": {
   "codemirror_mode": {
    "name": "ipython",
    "version": 3
   },
   "file_extension": ".py",
   "mimetype": "text/x-python",
   "name": "python",
   "nbconvert_exporter": "python",
   "pygments_lexer": "ipython3",
   "version": "3.6.5"
  }
 },
 "nbformat": 4,
 "nbformat_minor": 2
}
